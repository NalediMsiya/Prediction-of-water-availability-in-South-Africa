{
 "cells": [
  {
   "cell_type": "code",
   "execution_count": 226,
   "id": "7cac28e4-4740-4b8b-a0c1-0772883c36ea",
   "metadata": {},
   "outputs": [],
   "source": [
    "#importing relevant packages \n",
    "import pandas as pd\n",
    "import numpy as np\n",
    "import seaborn as sns\n",
    "import matplotlib.pyplot as plt "
   ]
  },
  {
   "cell_type": "code",
   "execution_count": 227,
   "id": "89f33636-c9e8-4619-a22f-89f8caf85a4b",
   "metadata": {},
   "outputs": [],
   "source": [
    "#Reading the the csv file \n",
    "df = pd.read_csv(\"C:\\\\Users\\\\Naledi_M\\\\Desktop\\\\water.csv\", sep = \"comma\", engine = \"python\")"
   ]
  },
  {
   "cell_type": "code",
   "execution_count": 228,
   "id": "190c140c-589a-427a-954c-d3f812f4756f",
   "metadata": {},
   "outputs": [
    {
     "data": {
      "text/html": [
       "<div>\n",
       "<style scoped>\n",
       "    .dataframe tbody tr th:only-of-type {\n",
       "        vertical-align: middle;\n",
       "    }\n",
       "\n",
       "    .dataframe tbody tr th {\n",
       "        vertical-align: top;\n",
       "    }\n",
       "\n",
       "    .dataframe thead th {\n",
       "        text-align: right;\n",
       "    }\n",
       "</style>\n",
       "<table border=\"1\" class=\"dataframe\">\n",
       "  <thead>\n",
       "    <tr style=\"text-align: right;\">\n",
       "      <th></th>\n",
       "      <th>Data Source,World Development Indicators,,,,,,,,,,,,,,,,,,,,,,,,,,,,,,,,,,,,,,,,,,,,,,,,,,,,,,,,,,,,,,,,,,</th>\n",
       "    </tr>\n",
       "  </thead>\n",
       "  <tbody>\n",
       "    <tr>\n",
       "      <th>0</th>\n",
       "      <td>,,,,,,,,,,,,,,,,,,,,,,,,,,,,,,,,,,,,,,,,,,,,,,...</td>\n",
       "    </tr>\n",
       "    <tr>\n",
       "      <th>1</th>\n",
       "      <td>Last Updated Date,5/30/2024,,,,,,,,,,,,,,,,,,,...</td>\n",
       "    </tr>\n",
       "    <tr>\n",
       "      <th>2</th>\n",
       "      <td>,,,,,,,,,,,,,,,,,,,,,,,,,,,,,,,,,,,,,,,,,,,,,,...</td>\n",
       "    </tr>\n",
       "    <tr>\n",
       "      <th>3</th>\n",
       "      <td>Country Name,Country Code,Indicator Name,Indic...</td>\n",
       "    </tr>\n",
       "    <tr>\n",
       "      <th>4</th>\n",
       "      <td>Aruba,ABW,People using at least basic drinking...</td>\n",
       "    </tr>\n",
       "    <tr>\n",
       "      <th>5</th>\n",
       "      <td>Africa Eastern and Southern,AFE,People using a...</td>\n",
       "    </tr>\n",
       "    <tr>\n",
       "      <th>6</th>\n",
       "      <td>Afghanistan,AFG,People using at least basic dr...</td>\n",
       "    </tr>\n",
       "    <tr>\n",
       "      <th>7</th>\n",
       "      <td>Africa Western and Central,AFW,People using at...</td>\n",
       "    </tr>\n",
       "    <tr>\n",
       "      <th>8</th>\n",
       "      <td>Angola,AGO,People using at least basic drinkin...</td>\n",
       "    </tr>\n",
       "    <tr>\n",
       "      <th>9</th>\n",
       "      <td>Albania,ALB,People using at least basic drinki...</td>\n",
       "    </tr>\n",
       "  </tbody>\n",
       "</table>\n",
       "</div>"
      ],
      "text/plain": [
       "  Data Source,World Development Indicators,,,,,,,,,,,,,,,,,,,,,,,,,,,,,,,,,,,,,,,,,,,,,,,,,,,,,,,,,,,,,,,,,,\n",
       "0  ,,,,,,,,,,,,,,,,,,,,,,,,,,,,,,,,,,,,,,,,,,,,,,...                                                        \n",
       "1  Last Updated Date,5/30/2024,,,,,,,,,,,,,,,,,,,...                                                        \n",
       "2  ,,,,,,,,,,,,,,,,,,,,,,,,,,,,,,,,,,,,,,,,,,,,,,...                                                        \n",
       "3  Country Name,Country Code,Indicator Name,Indic...                                                        \n",
       "4  Aruba,ABW,People using at least basic drinking...                                                        \n",
       "5  Africa Eastern and Southern,AFE,People using a...                                                        \n",
       "6  Afghanistan,AFG,People using at least basic dr...                                                        \n",
       "7  Africa Western and Central,AFW,People using at...                                                        \n",
       "8  Angola,AGO,People using at least basic drinkin...                                                        \n",
       "9  Albania,ALB,People using at least basic drinki...                                                        "
      ]
     },
     "execution_count": 228,
     "metadata": {},
     "output_type": "execute_result"
    }
   ],
   "source": [
    "# viewing the first 10 rows of the data\n",
    "df.head(10)"
   ]
  },
  {
   "cell_type": "code",
   "execution_count": 229,
   "id": "e070d433-9124-4a53-a303-e7b881de4f00",
   "metadata": {},
   "outputs": [
    {
     "data": {
      "text/plain": [
       "Index(['Data Source,World Development Indicators,,,,,,,,,,,,,,,,,,,,,,,,,,,,,,,,,,,,,,,,,,,,,,,,,,,,,,,,,,,,,,,,,,'], dtype='object')"
      ]
     },
     "execution_count": 229,
     "metadata": {},
     "output_type": "execute_result"
    }
   ],
   "source": [
    "#checking the unique columns in the dataset\n",
    "df.columns.unique()\n"
   ]
  },
  {
   "cell_type": "code",
   "execution_count": 232,
   "id": "2975aa62-056a-4660-bb0f-f7b3710bb3b7",
   "metadata": {},
   "outputs": [],
   "source": [
    "#removing quotation marks in the dataset\n",
    "df = df.apply(lambda s:s.str.replace('\"',''))"
   ]
  },
  {
   "cell_type": "code",
   "execution_count": 233,
   "id": "cfcbf4ff-b2fc-4c9c-92e1-33b71d852beb",
   "metadata": {},
   "outputs": [
    {
     "data": {
      "text/plain": [
       "Index(['Country Name,Country Code,Indicator Name,Indicator Code,1960,1961,1962,1963,1964,1965,1966,1967,1968,1969,1970,1971,1972,1973,1974,1975,1976,1977,1978,1979,1980,1981,1982,1983,1984,1985,1986,1987,1988,1989,1990,1991,1992,1993,1994,1995,1996,1997,1998,1999,2000,2001,2002,2003,2004,2005,2006,2007,2008,2009,2010,2011,2012,2013,2014,2015,2016,2017,2018,2019,2020,2021,2022,2023'], dtype='object', name=3)"
      ]
     },
     "execution_count": 233,
     "metadata": {},
     "output_type": "execute_result"
    }
   ],
   "source": [
    "#setting the fourth row to be the columns of the dataset\n",
    "df.columns = df.iloc[3]\n",
    "df.columns.unique()"
   ]
  },
  {
   "cell_type": "code",
   "execution_count": 235,
   "id": "d8b03f47-dca2-426f-ad15-283862d00da3",
   "metadata": {},
   "outputs": [],
   "source": [
    "# removing the first 3 rows from the dataset \n",
    "df = df.loc[4:,:]"
   ]
  },
  {
   "cell_type": "code",
   "execution_count": 236,
   "id": "12a6c7c2-21ff-4ef3-93a4-dd0b86e4f3a4",
   "metadata": {},
   "outputs": [],
   "source": [
    "# renaming the exsisting column to a shorter name : col\n",
    "df.rename(columns={'Country Name,Country Code,Indicator Name,Indicator Code,1960,1961,1962,1963,1964,1965,1966,1967,1968,1969,1970,1971,1972,1973,1974,1975,1976,1977,1978,1979,1980,1981,1982,1983,1984,1985,1986,1987,1988,1989,1990,1991,1992,1993,1994,1995,1996,1997,1998,1999,2000,2001,2002,2003,2004,2005,2006,2007,2008,2009,2010,2011,2012,2013,2014,2015,2016,2017,2018,2019,2020,2021,2022,2023': \"Col\"},inplace = True)"
   ]
  },
  {
   "cell_type": "code",
   "execution_count": 237,
   "id": "6475e67c-873c-49b6-8a08-702ab06abbee",
   "metadata": {},
   "outputs": [],
   "source": [
    "#Splitting col by comma\n",
    "split_columns = df[\"Col\"].str.split(\",\",expand =True)\n",
    "#Creating names to the splitted columns \n",
    "column_names = [\"Country\", \"Country Code\", \"Indicator Name\", \"Indicator Code\"] + [str(year) for year in range(1960, 2024)] + [\"Last Updated Date\"]\n",
    "#Assigning names to splitted columns\n",
    "split_columns.columns = column_names[:len(split_columns.columns)]\n",
    "#Concating split_columns and the original dataframe into a new dataframe and deleting the original col\n",
    "df1 = pd.concat([df.drop(columns=['Col']), split_columns], axis=1)"
   ]
  },
  {
   "cell_type": "code",
   "execution_count": 238,
   "id": "8e5d02dd-4f87-40e3-95e2-c43a8c208d0a",
   "metadata": {},
   "outputs": [
    {
     "data": {
      "text/html": [
       "<div>\n",
       "<style scoped>\n",
       "    .dataframe tbody tr th:only-of-type {\n",
       "        vertical-align: middle;\n",
       "    }\n",
       "\n",
       "    .dataframe tbody tr th {\n",
       "        vertical-align: top;\n",
       "    }\n",
       "\n",
       "    .dataframe thead th {\n",
       "        text-align: right;\n",
       "    }\n",
       "</style>\n",
       "<table border=\"1\" class=\"dataframe\">\n",
       "  <thead>\n",
       "    <tr style=\"text-align: right;\">\n",
       "      <th></th>\n",
       "      <th>Country</th>\n",
       "      <th>Country Code</th>\n",
       "      <th>Indicator Name</th>\n",
       "      <th>Indicator Code</th>\n",
       "      <th>1960</th>\n",
       "      <th>1961</th>\n",
       "      <th>1962</th>\n",
       "      <th>1963</th>\n",
       "      <th>1964</th>\n",
       "      <th>1965</th>\n",
       "      <th>...</th>\n",
       "      <th>2015</th>\n",
       "      <th>2016</th>\n",
       "      <th>2017</th>\n",
       "      <th>2018</th>\n",
       "      <th>2019</th>\n",
       "      <th>2020</th>\n",
       "      <th>2021</th>\n",
       "      <th>2022</th>\n",
       "      <th>2023</th>\n",
       "      <th>Last Updated Date</th>\n",
       "    </tr>\n",
       "  </thead>\n",
       "  <tbody>\n",
       "    <tr>\n",
       "      <th>4</th>\n",
       "      <td>Aruba</td>\n",
       "      <td>ABW</td>\n",
       "      <td>People using at least basic drinking water ser...</td>\n",
       "      <td>SH.H2O.BASW.ZS</td>\n",
       "      <td></td>\n",
       "      <td></td>\n",
       "      <td></td>\n",
       "      <td></td>\n",
       "      <td></td>\n",
       "      <td></td>\n",
       "      <td>...</td>\n",
       "      <td>97.86902338</td>\n",
       "      <td>97.86902338</td>\n",
       "      <td></td>\n",
       "      <td></td>\n",
       "      <td></td>\n",
       "      <td></td>\n",
       "      <td></td>\n",
       "      <td></td>\n",
       "      <td></td>\n",
       "      <td>None</td>\n",
       "    </tr>\n",
       "    <tr>\n",
       "      <th>5</th>\n",
       "      <td>Africa Eastern and Southern</td>\n",
       "      <td>AFE</td>\n",
       "      <td>People using at least basic drinking water ser...</td>\n",
       "      <td>SH.H2O.BASW.ZS</td>\n",
       "      <td></td>\n",
       "      <td></td>\n",
       "      <td></td>\n",
       "      <td></td>\n",
       "      <td></td>\n",
       "      <td></td>\n",
       "      <td>...</td>\n",
       "      <td>53.60298591</td>\n",
       "      <td>54.41645593</td>\n",
       "      <td>55.23389096</td>\n",
       "      <td>56.06883421</td>\n",
       "      <td>56.87769713</td>\n",
       "      <td>57.64338515</td>\n",
       "      <td>58.38445523</td>\n",
       "      <td>59.10346311</td>\n",
       "      <td></td>\n",
       "      <td>None</td>\n",
       "    </tr>\n",
       "    <tr>\n",
       "      <th>6</th>\n",
       "      <td>Afghanistan</td>\n",
       "      <td>AFG</td>\n",
       "      <td>People using at least basic drinking water ser...</td>\n",
       "      <td>SH.H2O.BASW.ZS</td>\n",
       "      <td></td>\n",
       "      <td></td>\n",
       "      <td></td>\n",
       "      <td></td>\n",
       "      <td></td>\n",
       "      <td></td>\n",
       "      <td>...</td>\n",
       "      <td>62.36965956</td>\n",
       "      <td>65.17216226</td>\n",
       "      <td>68.00887159</td>\n",
       "      <td>70.87994089</td>\n",
       "      <td>73.784643</td>\n",
       "      <td>76.7222554</td>\n",
       "      <td>79.69307846</td>\n",
       "      <td>82.17537112</td>\n",
       "      <td></td>\n",
       "      <td>None</td>\n",
       "    </tr>\n",
       "    <tr>\n",
       "      <th>7</th>\n",
       "      <td>Africa Western and Central</td>\n",
       "      <td>AFW</td>\n",
       "      <td>People using at least basic drinking water ser...</td>\n",
       "      <td>SH.H2O.BASW.ZS</td>\n",
       "      <td></td>\n",
       "      <td></td>\n",
       "      <td></td>\n",
       "      <td></td>\n",
       "      <td></td>\n",
       "      <td></td>\n",
       "      <td>...</td>\n",
       "      <td>66.54840711</td>\n",
       "      <td>67.61722605</td>\n",
       "      <td>68.68196023</td>\n",
       "      <td>69.749071</td>\n",
       "      <td>70.79848719</td>\n",
       "      <td>71.84506309</td>\n",
       "      <td>72.93549109</td>\n",
       "      <td>74.04563986</td>\n",
       "      <td></td>\n",
       "      <td>None</td>\n",
       "    </tr>\n",
       "    <tr>\n",
       "      <th>8</th>\n",
       "      <td>Angola</td>\n",
       "      <td>AGO</td>\n",
       "      <td>People using at least basic drinking water ser...</td>\n",
       "      <td>SH.H2O.BASW.ZS</td>\n",
       "      <td></td>\n",
       "      <td></td>\n",
       "      <td></td>\n",
       "      <td></td>\n",
       "      <td></td>\n",
       "      <td></td>\n",
       "      <td>...</td>\n",
       "      <td>54.31693061</td>\n",
       "      <td>55.08427251</td>\n",
       "      <td>55.84290952</td>\n",
       "      <td>56.59174877</td>\n",
       "      <td>56.88303749</td>\n",
       "      <td>57.16773792</td>\n",
       "      <td>57.44672553</td>\n",
       "      <td>57.71956067</td>\n",
       "      <td></td>\n",
       "      <td>None</td>\n",
       "    </tr>\n",
       "  </tbody>\n",
       "</table>\n",
       "<p>5 rows × 69 columns</p>\n",
       "</div>"
      ],
      "text/plain": [
       "                       Country Country Code  \\\n",
       "4                        Aruba          ABW   \n",
       "5  Africa Eastern and Southern          AFE   \n",
       "6                  Afghanistan          AFG   \n",
       "7   Africa Western and Central          AFW   \n",
       "8                       Angola          AGO   \n",
       "\n",
       "                                      Indicator Name  Indicator Code 1960  \\\n",
       "4  People using at least basic drinking water ser...  SH.H2O.BASW.ZS        \n",
       "5  People using at least basic drinking water ser...  SH.H2O.BASW.ZS        \n",
       "6  People using at least basic drinking water ser...  SH.H2O.BASW.ZS        \n",
       "7  People using at least basic drinking water ser...  SH.H2O.BASW.ZS        \n",
       "8  People using at least basic drinking water ser...  SH.H2O.BASW.ZS        \n",
       "\n",
       "  1961 1962 1963 1964 1965  ...         2015         2016         2017  \\\n",
       "4                           ...  97.86902338  97.86902338                \n",
       "5                           ...  53.60298591  54.41645593  55.23389096   \n",
       "6                           ...  62.36965956  65.17216226  68.00887159   \n",
       "7                           ...  66.54840711  67.61722605  68.68196023   \n",
       "8                           ...  54.31693061  55.08427251  55.84290952   \n",
       "\n",
       "          2018         2019         2020         2021         2022 2023  \\\n",
       "4                                                                         \n",
       "5  56.06883421  56.87769713  57.64338515  58.38445523  59.10346311        \n",
       "6  70.87994089    73.784643   76.7222554  79.69307846  82.17537112        \n",
       "7    69.749071  70.79848719  71.84506309  72.93549109  74.04563986        \n",
       "8  56.59174877  56.88303749  57.16773792  57.44672553  57.71956067        \n",
       "\n",
       "  Last Updated Date  \n",
       "4              None  \n",
       "5              None  \n",
       "6              None  \n",
       "7              None  \n",
       "8              None  \n",
       "\n",
       "[5 rows x 69 columns]"
      ]
     },
     "execution_count": 238,
     "metadata": {},
     "output_type": "execute_result"
    }
   ],
   "source": [
    "#viewing the first 5 rows\n",
    "df1.head(5)"
   ]
  },
  {
   "cell_type": "code",
   "execution_count": 239,
   "id": "b571b7d0-2c79-4187-9bef-968e5b8416c1",
   "metadata": {},
   "outputs": [],
   "source": [
    "#dropping empty columns \n",
    "df1.drop(df1.iloc[:, 4:44], inplace =True, axis = 1)"
   ]
  },
  {
   "cell_type": "code",
   "execution_count": 240,
   "id": "de9e3c31-c2a8-49e9-8b73-fd441e3cdaad",
   "metadata": {},
   "outputs": [],
   "source": [
    "# identifying missing values, replacing empty entires with nan \n",
    "df1[\"2000\"] = df1[\"2000\"].str.strip().replace('',np.nan)\n",
    "df1[\"2001\"] = df1[\"2001\"].str.strip().replace('',np.nan)\n",
    "df1[\"2002\"] = df1[\"2002\"].str.strip().replace('',np.nan)\n",
    "df1[\"2003\"] = df1[\"2003\"].str.strip().replace('',np.nan)\n",
    "df1[\"2004\"] = df1[\"2004\"].str.strip().replace('',np.nan)\n",
    "df1[\"2005\"] = df1[\"2005\"].str.strip().replace('',np.nan)\n",
    "df1[\"2006\"] = df1[\"2006\"].str.strip().replace('',np.nan)\n",
    "df1[\"2007\"] = df1[\"2007\"].str.strip().replace('',np.nan)\n",
    "df1[\"2008\"] = df1[\"2008\"].str.strip().replace('',np.nan)\n",
    "df1[\"2009\"] = df1[\"2009\"].str.strip().replace('',np.nan)\n",
    "df1[\"2010\"] = df1[\"2010\"].str.strip().replace('',np.nan)\n",
    "df1[\"2011\"] = df1[\"2011\"].str.strip().replace('',np.nan)\n",
    "df1[\"2012\"] = df1[\"2012\"].str.strip().replace('',np.nan)\n",
    "df1[\"2013\"] = df1[\"2013\"].str.strip().replace('',np.nan)\n",
    "df1[\"2014\"] = df1[\"2014\"].str.strip().replace('',np.nan)\n",
    "df1[\"2015\"] = df1[\"2015\"].str.strip().replace('',np.nan)\n",
    "df1[\"2016\"] = df1[\"2016\"].str.strip().replace('',np.nan)\n",
    "df1[\"2017\"] = df1[\"2017\"].str.strip().replace('',np.nan)\n",
    "df1[\"2018\"] = df1[\"2018\"].str.strip().replace('',np.nan)\n",
    "df1[\"2019\"] = df1[\"2019\"].str.strip().replace('',np.nan)\n",
    "df1[\"2020\"] = df1[\"2020\"].str.strip().replace('',np.nan)\n",
    "df1[\"2021\"] = df1[\"2021\"].str.strip().replace('',np.nan)\n",
    "df1[\"2022\"] = df1[\"2022\"].str.strip().replace('',np.nan)\n",
    "df1[\"2023\"] = df1[\"2023\"].str.strip().replace('',np.nan)"
   ]
  },
  {
   "cell_type": "code",
   "execution_count": 241,
   "id": "c3b6ea88-5fbb-4c53-a330-517b39521d7e",
   "metadata": {},
   "outputs": [
    {
     "data": {
      "text/plain": [
       "Country                0\n",
       "Country Code           0\n",
       "Indicator Name         0\n",
       "Indicator Code         0\n",
       "2000                  30\n",
       "2001                  16\n",
       "2002                  14\n",
       "2003                  14\n",
       "2004                  14\n",
       "2005                   9\n",
       "2006                   8\n",
       "2007                   8\n",
       "2008                   9\n",
       "2009                   7\n",
       "2010                   7\n",
       "2011                   6\n",
       "2012                   6\n",
       "2013                   6\n",
       "2014                   6\n",
       "2015                   5\n",
       "2016                   4\n",
       "2017                   7\n",
       "2018                  13\n",
       "2019                  14\n",
       "2020                  16\n",
       "2021                  19\n",
       "2022                  23\n",
       "2023                 256\n",
       "Last Updated Date    253\n",
       "dtype: int64"
      ]
     },
     "execution_count": 241,
     "metadata": {},
     "output_type": "execute_result"
    }
   ],
   "source": [
    "# counting missing values \n",
    "missing = df1.isnull().sum()\n",
    "missing"
   ]
  },
  {
   "cell_type": "code",
   "execution_count": 242,
   "id": "d06c569a-df23-4497-a6a1-5e51d19ffd86",
   "metadata": {},
   "outputs": [
    {
     "data": {
      "text/plain": [
       "Country              object\n",
       "Country Code         object\n",
       "Indicator Name       object\n",
       "Indicator Code       object\n",
       "2000                 object\n",
       "2001                 object\n",
       "2002                 object\n",
       "2003                 object\n",
       "2004                 object\n",
       "2005                 object\n",
       "2006                 object\n",
       "2007                 object\n",
       "2008                 object\n",
       "2009                 object\n",
       "2010                 object\n",
       "2011                 object\n",
       "2012                 object\n",
       "2013                 object\n",
       "2014                 object\n",
       "2015                 object\n",
       "2016                 object\n",
       "2017                 object\n",
       "2018                 object\n",
       "2019                 object\n",
       "2020                 object\n",
       "2021                 object\n",
       "2022                 object\n",
       "2023                 object\n",
       "Last Updated Date    object\n",
       "dtype: object"
      ]
     },
     "execution_count": 242,
     "metadata": {},
     "output_type": "execute_result"
    }
   ],
   "source": [
    "# determining the type of data in the dataframe\n",
    "df1.dtypes"
   ]
  },
  {
   "cell_type": "code",
   "execution_count": 243,
   "id": "6a9948db-9b91-4b06-abd5-a253eb583ee3",
   "metadata": {},
   "outputs": [],
   "source": [
    "df1[\"2000\"] = df1[\"2000\"].astype(float)"
   ]
  },
  {
   "cell_type": "code",
   "execution_count": 244,
   "id": "de29da57-c296-432c-b73d-0d17453edb4c",
   "metadata": {},
   "outputs": [],
   "source": [
    "#converting the year columns to floats\n",
    "def convert(x,cols):\n",
    "    x[cols] = x[cols].astype(float)\n",
    "    return x\n",
    "df1 = convert(df1,[\"2000\",\"2001\",\"2002\",\"2003\",\"2004\",\"2005\",\"2006\",\"2007\",\"2008\",\n",
    "             \"2009\",\"2010\",\"2011\",\"2012\",\"2013\",\"2014\",\"2015\",\"2016\",\"2017\",\"2018\",\"2019\",\"2020\",\"2021\",\"2022\",\"2023\"])\n",
    "        "
   ]
  },
  {
   "cell_type": "code",
   "execution_count": 245,
   "id": "8281fb9d-4018-4ac8-8f6b-0032141f1a94",
   "metadata": {},
   "outputs": [],
   "source": [
    "# creating a function to change object dtypes to strings\n",
    "def str_convert(x,cols):\n",
    "    x[cols] = x[cols].astype(\"string\")\n",
    "    return x.dtypes\n",
    "#str_convert(df1,[\"Country\",\"Country Code\"])"
   ]
  },
  {
   "cell_type": "code",
   "execution_count": 246,
   "id": "72089c3c-b238-4c81-b642-b302b2079bc0",
   "metadata": {},
   "outputs": [
    {
     "data": {
      "text/html": [
       "<div>\n",
       "<style scoped>\n",
       "    .dataframe tbody tr th:only-of-type {\n",
       "        vertical-align: middle;\n",
       "    }\n",
       "\n",
       "    .dataframe tbody tr th {\n",
       "        vertical-align: top;\n",
       "    }\n",
       "\n",
       "    .dataframe thead th {\n",
       "        text-align: right;\n",
       "    }\n",
       "</style>\n",
       "<table border=\"1\" class=\"dataframe\">\n",
       "  <thead>\n",
       "    <tr style=\"text-align: right;\">\n",
       "      <th></th>\n",
       "      <th>Country</th>\n",
       "      <th>Country Code</th>\n",
       "      <th>Indicator Name</th>\n",
       "      <th>Indicator Code</th>\n",
       "      <th>2000</th>\n",
       "      <th>2001</th>\n",
       "      <th>2002</th>\n",
       "      <th>2003</th>\n",
       "      <th>2004</th>\n",
       "      <th>2005</th>\n",
       "      <th>...</th>\n",
       "      <th>2015</th>\n",
       "      <th>2016</th>\n",
       "      <th>2017</th>\n",
       "      <th>2018</th>\n",
       "      <th>2019</th>\n",
       "      <th>2020</th>\n",
       "      <th>2021</th>\n",
       "      <th>2022</th>\n",
       "      <th>2023</th>\n",
       "      <th>Last Updated Date</th>\n",
       "    </tr>\n",
       "  </thead>\n",
       "  <tbody>\n",
       "    <tr>\n",
       "      <th>4</th>\n",
       "      <td>Aruba</td>\n",
       "      <td>ABW</td>\n",
       "      <td>People using at least basic drinking water ser...</td>\n",
       "      <td>SH.H2O.BASW.ZS</td>\n",
       "      <td>94.488806</td>\n",
       "      <td>94.770491</td>\n",
       "      <td>95.052176</td>\n",
       "      <td>95.333861</td>\n",
       "      <td>95.615545</td>\n",
       "      <td>95.897230</td>\n",
       "      <td>...</td>\n",
       "      <td>97.869023</td>\n",
       "      <td>97.869023</td>\n",
       "      <td>87.947767</td>\n",
       "      <td>88.238464</td>\n",
       "      <td>88.538096</td>\n",
       "      <td>88.849105</td>\n",
       "      <td>89.100698</td>\n",
       "      <td>89.429109</td>\n",
       "      <td>86.620058</td>\n",
       "      <td>None</td>\n",
       "    </tr>\n",
       "    <tr>\n",
       "      <th>5</th>\n",
       "      <td>Africa Eastern and Southern</td>\n",
       "      <td>AFE</td>\n",
       "      <td>People using at least basic drinking water ser...</td>\n",
       "      <td>SH.H2O.BASW.ZS</td>\n",
       "      <td>41.809640</td>\n",
       "      <td>42.499933</td>\n",
       "      <td>43.207039</td>\n",
       "      <td>43.918658</td>\n",
       "      <td>44.635138</td>\n",
       "      <td>45.433853</td>\n",
       "      <td>...</td>\n",
       "      <td>53.602986</td>\n",
       "      <td>54.416456</td>\n",
       "      <td>55.233891</td>\n",
       "      <td>56.068834</td>\n",
       "      <td>56.877697</td>\n",
       "      <td>57.643385</td>\n",
       "      <td>58.384455</td>\n",
       "      <td>59.103463</td>\n",
       "      <td>86.620058</td>\n",
       "      <td>None</td>\n",
       "    </tr>\n",
       "    <tr>\n",
       "      <th>6</th>\n",
       "      <td>Afghanistan</td>\n",
       "      <td>AFG</td>\n",
       "      <td>People using at least basic drinking water ser...</td>\n",
       "      <td>SH.H2O.BASW.ZS</td>\n",
       "      <td>27.441856</td>\n",
       "      <td>27.473580</td>\n",
       "      <td>29.674863</td>\n",
       "      <td>31.875589</td>\n",
       "      <td>34.094431</td>\n",
       "      <td>36.331226</td>\n",
       "      <td>...</td>\n",
       "      <td>62.369660</td>\n",
       "      <td>65.172162</td>\n",
       "      <td>68.008872</td>\n",
       "      <td>70.879941</td>\n",
       "      <td>73.784643</td>\n",
       "      <td>76.722255</td>\n",
       "      <td>79.693078</td>\n",
       "      <td>82.175371</td>\n",
       "      <td>86.620058</td>\n",
       "      <td>None</td>\n",
       "    </tr>\n",
       "  </tbody>\n",
       "</table>\n",
       "<p>3 rows × 29 columns</p>\n",
       "</div>"
      ],
      "text/plain": [
       "                       Country Country Code  \\\n",
       "4                        Aruba          ABW   \n",
       "5  Africa Eastern and Southern          AFE   \n",
       "6                  Afghanistan          AFG   \n",
       "\n",
       "                                      Indicator Name  Indicator Code  \\\n",
       "4  People using at least basic drinking water ser...  SH.H2O.BASW.ZS   \n",
       "5  People using at least basic drinking water ser...  SH.H2O.BASW.ZS   \n",
       "6  People using at least basic drinking water ser...  SH.H2O.BASW.ZS   \n",
       "\n",
       "        2000       2001       2002       2003       2004       2005  ...  \\\n",
       "4  94.488806  94.770491  95.052176  95.333861  95.615545  95.897230  ...   \n",
       "5  41.809640  42.499933  43.207039  43.918658  44.635138  45.433853  ...   \n",
       "6  27.441856  27.473580  29.674863  31.875589  34.094431  36.331226  ...   \n",
       "\n",
       "        2015       2016       2017       2018       2019       2020  \\\n",
       "4  97.869023  97.869023  87.947767  88.238464  88.538096  88.849105   \n",
       "5  53.602986  54.416456  55.233891  56.068834  56.877697  57.643385   \n",
       "6  62.369660  65.172162  68.008872  70.879941  73.784643  76.722255   \n",
       "\n",
       "        2021       2022       2023  Last Updated Date  \n",
       "4  89.100698  89.429109  86.620058               None  \n",
       "5  58.384455  59.103463  86.620058               None  \n",
       "6  79.693078  82.175371  86.620058               None  \n",
       "\n",
       "[3 rows x 29 columns]"
      ]
     },
     "execution_count": 246,
     "metadata": {},
     "output_type": "execute_result"
    }
   ],
   "source": [
    "# creating a function to replace missing values with the mean of each column.\n",
    "def finding_mean(x,col):\n",
    "    ave = x[col].mean()\n",
    "    x[col] = x[col].fillna(ave)\n",
    "    return x   \n",
    "            \n",
    "finding_mean(df1,[\"2000\",\"2001\",\"2002\",\"2003\",\"2004\",\"2005\",\"2006\",\"2007\",\"2008\",\n",
    "             \"2009\",\"2010\",\"2011\",\"2012\",\"2013\",\"2014\",\"2015\",\"2016\",\"2017\",\"2018\",\"2019\",\"2020\",\"2021\",\"2022\",\"2023\"])\n",
    "df1.head(3)"
   ]
  },
  {
   "cell_type": "code",
   "execution_count": 247,
   "id": "6a113a18-0e5e-418c-b013-d4629ac0fcf6",
   "metadata": {},
   "outputs": [],
   "source": [
    "#percentage of people with drinking water in south afria\n",
    "south = df1.loc[(df1[\"Country\"] ==\"South Africa\")]\n"
   ]
  },
  {
   "cell_type": "code",
   "execution_count": 248,
   "id": "6349d0a3-838f-4c35-9446-916530c1bab6",
   "metadata": {},
   "outputs": [
    {
     "data": {
      "text/html": [
       "<div>\n",
       "<style scoped>\n",
       "    .dataframe tbody tr th:only-of-type {\n",
       "        vertical-align: middle;\n",
       "    }\n",
       "\n",
       "    .dataframe tbody tr th {\n",
       "        vertical-align: top;\n",
       "    }\n",
       "\n",
       "    .dataframe thead th {\n",
       "        text-align: right;\n",
       "    }\n",
       "</style>\n",
       "<table border=\"1\" class=\"dataframe\">\n",
       "  <thead>\n",
       "    <tr style=\"text-align: right;\">\n",
       "      <th></th>\n",
       "      <th>2008</th>\n",
       "      <th>2009</th>\n",
       "      <th>2010</th>\n",
       "      <th>2011</th>\n",
       "      <th>2012</th>\n",
       "      <th>2013</th>\n",
       "      <th>2014</th>\n",
       "      <th>2015</th>\n",
       "      <th>2016</th>\n",
       "      <th>2017</th>\n",
       "      <th>2018</th>\n",
       "      <th>2019</th>\n",
       "      <th>2020</th>\n",
       "      <th>2021</th>\n",
       "      <th>2022</th>\n",
       "      <th>2023</th>\n",
       "      <th>Last Updated Date</th>\n",
       "    </tr>\n",
       "  </thead>\n",
       "  <tbody>\n",
       "    <tr>\n",
       "      <th>267</th>\n",
       "      <td>88.669259</td>\n",
       "      <td>89.142858</td>\n",
       "      <td>89.607555</td>\n",
       "      <td>90.063165</td>\n",
       "      <td>90.509974</td>\n",
       "      <td>90.947383</td>\n",
       "      <td>91.376143</td>\n",
       "      <td>91.796096</td>\n",
       "      <td>92.207312</td>\n",
       "      <td>92.609683</td>\n",
       "      <td>93.003291</td>\n",
       "      <td>93.388244</td>\n",
       "      <td>93.76479</td>\n",
       "      <td>94.1327</td>\n",
       "      <td>94.492089</td>\n",
       "      <td>86.620058</td>\n",
       "      <td>None</td>\n",
       "    </tr>\n",
       "  </tbody>\n",
       "</table>\n",
       "</div>"
      ],
      "text/plain": [
       "          2008       2009       2010       2011       2012       2013  \\\n",
       "267  88.669259  89.142858  89.607555  90.063165  90.509974  90.947383   \n",
       "\n",
       "          2014       2015       2016       2017       2018       2019  \\\n",
       "267  91.376143  91.796096  92.207312  92.609683  93.003291  93.388244   \n",
       "\n",
       "         2020     2021       2022       2023 Last Updated Date  \n",
       "267  93.76479  94.1327  94.492089  86.620058              None  "
      ]
     },
     "execution_count": 248,
     "metadata": {},
     "output_type": "execute_result"
    }
   ],
   "source": [
    "# slicing the dataframe to only show data from the year 2000 to 2023\n",
    "pop = south.iloc[:,4:]\n",
    "pop.iloc[:,8:]"
   ]
  },
  {
   "cell_type": "code",
   "execution_count": 249,
   "id": "3c8fab58-0183-4448-a2ee-c6d73a5318f9",
   "metadata": {},
   "outputs": [],
   "source": [
    "#creating a dataframe for population and year using the above sliced data\n",
    "population = pd.DataFrame({\"year\":[\"2000\",\"2001\",\"2002\",\"2003\",\"2004\",\"2005\",\"2006\",\"2007\",\"2008\",\"2009\",\"2010\",\"2011\",\"2012\",\n",
    "                                  \"2013\",\"2014\",\"2015\",\"2016\",\"2017\",\"2018\",\"2019\",\"2020\",\"2021\",\"2022\",\"2023\"],\n",
    "                          \"num\":[84.57746,85.101003,85.633102,86.162149,86.682251,87.192579,87.69378,88.185908,88.669259,89.142858,\n",
    "                                          89.607555, 90.063165,90.509974,90.947383,91.376143,91.796096,92.207312,92.609683,93.003291,93.388244,\n",
    "                                          93.76479,94.1327,94.492089,86.620058]})"
   ]
  },
  {
   "cell_type": "code",
   "execution_count": 250,
   "id": "d165dd19-6e6a-40c8-a74b-213a356129c6",
   "metadata": {},
   "outputs": [
    {
     "data": {
      "text/plain": [
       "Text(0, 0.5, 'Population with access to drinking water')"
      ]
     },
     "execution_count": 250,
     "metadata": {},
     "output_type": "execute_result"
    },
    {
     "data": {
      "image/png": "[encoded data removed]",
      "text/plain": [
       "<Figure size 1300x1000 with 1 Axes>"
      ]
     },
     "metadata": {},
     "output_type": "display_data"
    }
   ],
   "source": [
    "# plotting a scatter plot to visualise the data\n",
    "x = population[\"year\"]\n",
    "y = population[\"num\"]\n",
    "fig = plt.figure(figsize = (13,10))\n",
    "plt.scatter(x,y,color = 'b')\n",
    "plt.xlabel('Years')\n",
    "plt.ylabel('Population with access to drinking water')"
   ]
  },
  {
   "cell_type": "code",
   "execution_count": 216,
   "id": "39c353c7-3591-4816-aeaa-83553ec39241",
   "metadata": {},
   "outputs": [],
   "source": [
    "#reshaping the x variable\n",
    "shape = np.array(x)\n",
    "reshaped = x_.reshape(-1,1)"
   ]
  },
  {
   "cell_type": "code",
   "execution_count": 251,
   "id": "48f2e254-d46a-4c5b-8133-d7ee80653197",
   "metadata": {},
   "outputs": [],
   "source": [
    "# applying the linear regression model\n",
    "from sklearn.linear_model import LinearRegression\n",
    "%matplotlib inline\n",
    "population_model = LinearRegression()\n",
    "population_model.fit(reshaped,y)\n",
    "y_pred = population_model.predict(reshaped) # applying the prediction model\n"
   ]
  },
  {
   "cell_type": "code",
   "execution_count": 252,
   "id": "29232f14-7c07-442b-bbd6-f142a4be57bb",
   "metadata": {},
   "outputs": [],
   "source": [
    "#finding the unique values in the x variable i.e \"reshaped\"\n",
    "arr1 = np.array(reshaped)\n",
    "unique_arr1 = np.unique(arr1) "
   ]
  },
  {
   "cell_type": "code",
   "execution_count": 253,
   "id": "d413456d-de94-4a39-b164-c52c841fbe69",
   "metadata": {},
   "outputs": [
    {
     "data": {
      "image/png": "[encoded data removed]",
      "text/plain": [
       "<Figure size 1300x1000 with 1 Axes>"
      ]
     },
     "metadata": {},
     "output_type": "display_data"
    }
   ],
   "source": [
    "#plotting a scatter plot with the prediction line\n",
    "fig = plt.figure(figsize = (13,10))\n",
    "plt.scatter(unique_arr1,y,color = 'b')\n",
    "plt.plot(unique_arr1,y_pred,color = 'r')\n",
    "plt.xlabel('Years')\n",
    "plt.ylabel('% of population with access to safe drinking water')\n",
    "plt.show()"
   ]
  },
  {
   "cell_type": "code",
   "execution_count": 261,
   "id": "5b9c9c1e-29ce-4c07-bd0f-9cd3ba02cb7d",
   "metadata": {},
   "outputs": [
    {
     "name": "stdout",
     "output_type": "stream",
     "text": [
      "The percentage of people who will have access to safe drinking water in 2025 is [94.65528585]\n",
      "The percentage of people who will have access to safe drinking water in 2026 is [95.02000199]\n",
      "The percentage of people who will have access to safe drinking water in 2027 is [95.38471813]\n",
      "The percentage of people who will have access to safe drinking water in 2028 is [95.74943427]\n",
      "The percentage of people who will have access to safe drinking water in 2029 is [96.1141504]\n"
     ]
    }
   ],
   "source": [
    "# predicting percentage of water availability in 2024\n",
    "pred_2025 = [[2025]]\n",
    "pred_2026 = [[2026]]\n",
    "pred_2027 = [[2027]]\n",
    "pred_2028 = [[2028]]\n",
    "pred_2029 = [[2029]]\n",
    "print(f\"The percentage of people who will have access to safe drinking water in 2025 is {population_model.predict(pred_2025)}\")\n",
    "print(f\"The percentage of people who will have access to safe drinking water in 2026 is {population_model.predict(pred_2026)}\")\n",
    "print(f\"The percentage of people who will have access to safe drinking water in 2027 is {population_model.predict(pred_2027)}\")\n",
    "print(f\"The percentage of people who will have access to safe drinking water in 2028 is {population_model.predict(pred_2028)}\")\n",
    "print(f\"The percentage of people who will have access to safe drinking water in 2029 is {population_model.predict(pred_2029)}\")"
   ]
  },
  {
   "cell_type": "code",
   "execution_count": null,
   "id": "a23e902b-e27b-4eba-84e5-1792563528c2",
   "metadata": {},
   "outputs": [],
   "source": []
  }
 ],
 "metadata": {
  "kernelspec": {
   "display_name": "Python 3 (ipykernel)",
   "language": "python",
   "name": "python3"
  },
  "language_info": {
   "codemirror_mode": {
    "name": "ipython",
    "version": 3
   },
   "file_extension": ".py",
   "mimetype": "text/x-python",
   "name": "python",
   "nbconvert_exporter": "python",
   "pygments_lexer": "ipython3",
   "version": "3.11.7"
  }
 },
 "nbformat": 4,
 "nbformat_minor": 5
}
